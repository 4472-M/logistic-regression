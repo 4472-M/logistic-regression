{
  "nbformat": 4,
  "nbformat_minor": 0,
  "metadata": {
    "colab": {
      "provenance": []
    },
    "kernelspec": {
      "name": "python3",
      "display_name": "Python 3"
    },
    "language_info": {
      "name": "python"
    }
  },
  "cells": [
    {
      "cell_type": "code",
      "execution_count": null,
      "metadata": {
        "id": "IcL0Cyni07BB"
      },
      "outputs": [],
      "source": [
        "1.\tWhat is Logistic Regression, and how does it differ from Linear Regression.\n",
        "ANS-\n",
        "Logistic Regression\n",
        "Logistic Regression is used for classification problems (mostly binary classification). Instead of predicting a continuous value like Linear Regression, it predicts the probability of a class.\n",
        "•\tThe output is a probability between 0 and 1.\n",
        "•\tIt uses the sigmoid function (logistic function) to transform linear outputs into probabilities.\n",
        "•\tIf the probability is greater than a threshold (e.g., 0.5), it classifies the outcome as 1; otherwise, as 0.\n",
        "\n",
        "Linear Regression\n",
        "Linear Regression is used for regression problems, where the goal is to predict a continuous value.\n",
        "•\tThe output is a real number (e.g., predicting house prices, stock prices).\n",
        "•\tIt assumes a linear relationship between the independent variable(s) and the dependent variable.\n",
        "\n",
        "\n",
        "Example Use Cases\n",
        "•\tLinear Regression: Predicting house prices, stock prices, employee salaries.\n",
        "•\tLogistic Regression: Spam detection, fraud detection, disease diagnosis (cancer/no cancer).\n",
        "\n",
        "2.\tWhat is the mathematical equation of Logistic Regression.\n",
        "ANS-\n",
        "The mathematical equation for Logistic Regression is based on the sigmoid (logistic) function, which converts a linear equation into a probability.\n",
        "1.\tSigmoid Function\n",
        "\n",
        "\n",
        "\n",
        "\n",
        "\n",
        "\n",
        "2. Log-Odds Transformation (Logit Function)\n",
        "\n",
        "3. Final Logistic Regression Equation\n",
        "\n",
        "\n"
      ]
    }
  ]
}